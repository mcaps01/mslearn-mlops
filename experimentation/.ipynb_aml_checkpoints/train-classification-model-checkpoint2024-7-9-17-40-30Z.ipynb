{
  "cells": [
    {
      "cell_type": "markdown",
      "source": [
        "# Train diabetes classification model\n",
        "\n",
        "This notebook reads a CSV file and trains a model to predict diabetes in patients. The data is already preprocessed and requires no feature engineering.\n",
        "\n",
        "The evaluation methods were used during experimentation to decide whether the model was accurate enough. Moving forward, there's a preference to use the autolog feature of MLflow to more easily deploy the model later on."
      ],
      "metadata": {}
    },
    {
      "cell_type": "markdown",
      "source": [
        "## Read data from local file\n",
        "\n"
      ],
      "metadata": {}
    },
    {
      "cell_type": "code",
      "source": [
        "import pandas as pd"
      ],
      "outputs": [],
      "execution_count": 1,
      "metadata": {
        "gather": {
          "logged": 1723223861629
        }
      }
    },
    {
      "cell_type": "code",
      "source": [
        "df = pd.read_csv('data/diabetes-dev.csv')"
      ],
      "outputs": [],
      "execution_count": 3,
      "metadata": {
        "gather": {
          "logged": 1723223909878
        }
      }
    },
    {
      "cell_type": "code",
      "source": [
        "df"
      ],
      "outputs": [
        {
          "output_type": "execute_result",
          "execution_count": 4,
          "data": {
            "text/plain": "      PatientID  Pregnancies  PlasmaGlucose  DiastolicBloodPressure  \\\n0       1142956            1             78                      41   \n1       1823377            0            116                      92   \n2       1916381            8            171                      42   \n3       1247480            3            108                      63   \n4       1516947            8            153                      99   \n...         ...          ...            ...                     ...   \n4995    1490300           10             65                      60   \n4996    1744410            2             73                      66   \n4997    1742742            0             93                      89   \n4998    1099353            0            132                      98   \n4999    1386396            3            114                      65   \n\n      TricepsThickness  SerumInsulin        BMI  DiabetesPedigree  Age  \\\n0                   33           311  50.796392          0.420804   24   \n1                   16           184  18.603630          0.131156   22   \n2                   29           160  35.482247          0.082671   22   \n3                   45           297  49.375169          0.100979   46   \n4                   15            41  35.062139          0.116191   22   \n...                ...           ...        ...               ...  ...   \n4995                46           177  33.512468          0.148327   41   \n4996                27           168  30.132636          0.862252   38   \n4997                43            57  18.690683          0.427049   24   \n4998                18           161  19.791645          0.302257   23   \n4999                47           512  36.215437          0.147363   34   \n\n      Diabetic  \n0            0  \n1            0  \n2            1  \n3            1  \n4            1  \n...        ...  \n4995         1  \n4996         1  \n4997         0  \n4998         0  \n4999         1  \n\n[5000 rows x 10 columns]",
            "text/html": "<div>\n<style scoped>\n    .dataframe tbody tr th:only-of-type {\n        vertical-align: middle;\n    }\n\n    .dataframe tbody tr th {\n        vertical-align: top;\n    }\n\n    .dataframe thead th {\n        text-align: right;\n    }\n</style>\n<table border=\"1\" class=\"dataframe\">\n  <thead>\n    <tr style=\"text-align: right;\">\n      <th></th>\n      <th>PatientID</th>\n      <th>Pregnancies</th>\n      <th>PlasmaGlucose</th>\n      <th>DiastolicBloodPressure</th>\n      <th>TricepsThickness</th>\n      <th>SerumInsulin</th>\n      <th>BMI</th>\n      <th>DiabetesPedigree</th>\n      <th>Age</th>\n      <th>Diabetic</th>\n    </tr>\n  </thead>\n  <tbody>\n    <tr>\n      <th>0</th>\n      <td>1142956</td>\n      <td>1</td>\n      <td>78</td>\n      <td>41</td>\n      <td>33</td>\n      <td>311</td>\n      <td>50.796392</td>\n      <td>0.420804</td>\n      <td>24</td>\n      <td>0</td>\n    </tr>\n    <tr>\n      <th>1</th>\n      <td>1823377</td>\n      <td>0</td>\n      <td>116</td>\n      <td>92</td>\n      <td>16</td>\n      <td>184</td>\n      <td>18.603630</td>\n      <td>0.131156</td>\n      <td>22</td>\n      <td>0</td>\n    </tr>\n    <tr>\n      <th>2</th>\n      <td>1916381</td>\n      <td>8</td>\n      <td>171</td>\n      <td>42</td>\n      <td>29</td>\n      <td>160</td>\n      <td>35.482247</td>\n      <td>0.082671</td>\n      <td>22</td>\n      <td>1</td>\n    </tr>\n    <tr>\n      <th>3</th>\n      <td>1247480</td>\n      <td>3</td>\n      <td>108</td>\n      <td>63</td>\n      <td>45</td>\n      <td>297</td>\n      <td>49.375169</td>\n      <td>0.100979</td>\n      <td>46</td>\n      <td>1</td>\n    </tr>\n    <tr>\n      <th>4</th>\n      <td>1516947</td>\n      <td>8</td>\n      <td>153</td>\n      <td>99</td>\n      <td>15</td>\n      <td>41</td>\n      <td>35.062139</td>\n      <td>0.116191</td>\n      <td>22</td>\n      <td>1</td>\n    </tr>\n    <tr>\n      <th>...</th>\n      <td>...</td>\n      <td>...</td>\n      <td>...</td>\n      <td>...</td>\n      <td>...</td>\n      <td>...</td>\n      <td>...</td>\n      <td>...</td>\n      <td>...</td>\n      <td>...</td>\n    </tr>\n    <tr>\n      <th>4995</th>\n      <td>1490300</td>\n      <td>10</td>\n      <td>65</td>\n      <td>60</td>\n      <td>46</td>\n      <td>177</td>\n      <td>33.512468</td>\n      <td>0.148327</td>\n      <td>41</td>\n      <td>1</td>\n    </tr>\n    <tr>\n      <th>4996</th>\n      <td>1744410</td>\n      <td>2</td>\n      <td>73</td>\n      <td>66</td>\n      <td>27</td>\n      <td>168</td>\n      <td>30.132636</td>\n      <td>0.862252</td>\n      <td>38</td>\n      <td>1</td>\n    </tr>\n    <tr>\n      <th>4997</th>\n      <td>1742742</td>\n      <td>0</td>\n      <td>93</td>\n      <td>89</td>\n      <td>43</td>\n      <td>57</td>\n      <td>18.690683</td>\n      <td>0.427049</td>\n      <td>24</td>\n      <td>0</td>\n    </tr>\n    <tr>\n      <th>4998</th>\n      <td>1099353</td>\n      <td>0</td>\n      <td>132</td>\n      <td>98</td>\n      <td>18</td>\n      <td>161</td>\n      <td>19.791645</td>\n      <td>0.302257</td>\n      <td>23</td>\n      <td>0</td>\n    </tr>\n    <tr>\n      <th>4999</th>\n      <td>1386396</td>\n      <td>3</td>\n      <td>114</td>\n      <td>65</td>\n      <td>47</td>\n      <td>512</td>\n      <td>36.215437</td>\n      <td>0.147363</td>\n      <td>34</td>\n      <td>1</td>\n    </tr>\n  </tbody>\n</table>\n<p>5000 rows × 10 columns</p>\n</div>"
          },
          "metadata": {}
        }
      ],
      "execution_count": 4,
      "metadata": {
        "gather": {
          "logged": 1723223912760
        }
      }
    },
    {
      "cell_type": "markdown",
      "source": [
        "## Split data"
      ],
      "metadata": {}
    },
    {
      "cell_type": "code",
      "source": [
        "X, y = df[['Pregnancies','PlasmaGlucose','DiastolicBloodPressure','TricepsThickness','SerumInsulin','BMI','DiabetesPedigree','Age']].values, df['Diabetic'].values"
      ],
      "outputs": [],
      "execution_count": 5,
      "metadata": {
        "gather": {
          "logged": 1723223927742
        }
      }
    },
    {
      "cell_type": "code",
      "source": [
        "len(X)"
      ],
      "outputs": [
        {
          "output_type": "execute_result",
          "execution_count": 6,
          "data": {
            "text/plain": "5000"
          },
          "metadata": {}
        }
      ],
      "execution_count": 6,
      "metadata": {
        "gather": {
          "logged": 1723223931188
        }
      }
    },
    {
      "cell_type": "code",
      "source": [
        "%pip install scikit-learn"
      ],
      "outputs": [
        {
          "output_type": "stream",
          "name": "stdout",
          "text": "Collecting scikit-learn\n  Downloading scikit_learn-1.5.1-cp39-cp39-manylinux_2_17_x86_64.manylinux2014_x86_64.whl.metadata (12 kB)\nRequirement already satisfied: numpy>=1.19.5 in /anaconda/envs/jupyter_env/lib/python3.9/site-packages (from scikit-learn) (1.26.4)\nRequirement already satisfied: scipy>=1.6.0 in /anaconda/envs/jupyter_env/lib/python3.9/site-packages (from scikit-learn) (1.13.1)\nCollecting joblib>=1.2.0 (from scikit-learn)\n  Downloading joblib-1.4.2-py3-none-any.whl.metadata (5.4 kB)\nCollecting threadpoolctl>=3.1.0 (from scikit-learn)\n  Downloading threadpoolctl-3.5.0-py3-none-any.whl.metadata (13 kB)\nDownloading scikit_learn-1.5.1-cp39-cp39-manylinux_2_17_x86_64.manylinux2014_x86_64.whl (13.4 MB)\n\u001b[2K   \u001b[90m━━━━━━━━━━━━━━━━━━━━━━━━━━━━━━━━━━━━━━━━\u001b[0m \u001b[32m13.4/13.4 MB\u001b[0m \u001b[31m69.5 MB/s\u001b[0m eta \u001b[36m0:00:00\u001b[0m:00:01\u001b[0m00:01\u001b[0m\n\u001b[?25hDownloading joblib-1.4.2-py3-none-any.whl (301 kB)\n\u001b[2K   \u001b[90m━━━━━━━━━━━━━━━━━━━━━━━━━━━━━━━━━━━━━━━━\u001b[0m \u001b[32m301.8/301.8 kB\u001b[0m \u001b[31m17.8 MB/s\u001b[0m eta \u001b[36m0:00:00\u001b[0m\n\u001b[?25hDownloading threadpoolctl-3.5.0-py3-none-any.whl (18 kB)\nInstalling collected packages: threadpoolctl, joblib, scikit-learn\nSuccessfully installed joblib-1.4.2 scikit-learn-1.5.1 threadpoolctl-3.5.0\nNote: you may need to restart the kernel to use updated packages.\n"
        }
      ],
      "execution_count": 15,
      "metadata": {
        "jupyter": {
          "source_hidden": false,
          "outputs_hidden": false
        },
        "nteract": {
          "transient": {
            "deleting": false
          }
        }
      }
    },
    {
      "cell_type": "code",
      "source": [
        "%pip install matplotlib"
      ],
      "outputs": [
        {
          "output_type": "stream",
          "name": "stdout",
          "text": "Collecting matplotlib\n  Downloading matplotlib-3.9.1.post1-cp39-cp39-manylinux_2_17_x86_64.manylinux2014_x86_64.whl.metadata (11 kB)\nCollecting contourpy>=1.0.1 (from matplotlib)\n  Downloading contourpy-1.2.1-cp39-cp39-manylinux_2_17_x86_64.manylinux2014_x86_64.whl.metadata (5.8 kB)\nCollecting cycler>=0.10 (from matplotlib)\n  Downloading cycler-0.12.1-py3-none-any.whl.metadata (3.8 kB)\nCollecting fonttools>=4.22.0 (from matplotlib)\n  Downloading fonttools-4.53.1-cp39-cp39-manylinux_2_17_x86_64.manylinux2014_x86_64.whl.metadata (162 kB)\n\u001b[2K     \u001b[90m━━━━━━━━━━━━━━━━━━━━━━━━━━━━━━━━━━━━━━━\u001b[0m \u001b[32m162.6/162.6 kB\u001b[0m \u001b[31m7.2 MB/s\u001b[0m eta \u001b[36m0:00:00\u001b[0m\n\u001b[?25hCollecting kiwisolver>=1.3.1 (from matplotlib)\n  Downloading kiwisolver-1.4.5-cp39-cp39-manylinux_2_12_x86_64.manylinux2010_x86_64.whl.metadata (6.4 kB)\nRequirement already satisfied: numpy>=1.23 in /anaconda/envs/jupyter_env/lib/python3.9/site-packages (from matplotlib) (1.26.4)\nRequirement already satisfied: packaging>=20.0 in /anaconda/envs/jupyter_env/lib/python3.9/site-packages (from matplotlib) (24.1)\nRequirement already satisfied: pillow>=8 in /anaconda/envs/jupyter_env/lib/python3.9/site-packages (from matplotlib) (10.3.0)\nCollecting pyparsing>=2.3.1 (from matplotlib)\n  Downloading pyparsing-3.1.2-py3-none-any.whl.metadata (5.1 kB)\nRequirement already satisfied: python-dateutil>=2.7 in /anaconda/envs/jupyter_env/lib/python3.9/site-packages (from matplotlib) (2.9.0.post0)\nCollecting importlib-resources>=3.2.0 (from matplotlib)\n  Downloading importlib_resources-6.4.0-py3-none-any.whl.metadata (3.9 kB)\nRequirement already satisfied: zipp>=3.1.0 in /anaconda/envs/jupyter_env/lib/python3.9/site-packages (from importlib-resources>=3.2.0->matplotlib) (3.19.2)\nRequirement already satisfied: six>=1.5 in /anaconda/envs/jupyter_env/lib/python3.9/site-packages (from python-dateutil>=2.7->matplotlib) (1.16.0)\nDownloading matplotlib-3.9.1.post1-cp39-cp39-manylinux_2_17_x86_64.manylinux2014_x86_64.whl (8.3 MB)\n\u001b[2K   \u001b[90m━━━━━━━━━━━━━━━━━━━━━━━━━━━━━━━━━━━━━━━━\u001b[0m \u001b[32m8.3/8.3 MB\u001b[0m \u001b[31m83.6 MB/s\u001b[0m eta \u001b[36m0:00:00\u001b[0m:00:01\u001b[0m00:01\u001b[0m\n\u001b[?25hDownloading contourpy-1.2.1-cp39-cp39-manylinux_2_17_x86_64.manylinux2014_x86_64.whl (304 kB)\n\u001b[2K   \u001b[90m━━━━━━━━━━━━━━━━━━━━━━━━━━━━━━━━━━━━━━━━\u001b[0m \u001b[32m305.0/305.0 kB\u001b[0m \u001b[31m16.6 MB/s\u001b[0m eta \u001b[36m0:00:00\u001b[0m\n\u001b[?25hDownloading cycler-0.12.1-py3-none-any.whl (8.3 kB)\nDownloading fonttools-4.53.1-cp39-cp39-manylinux_2_17_x86_64.manylinux2014_x86_64.whl (4.6 MB)\n\u001b[2K   \u001b[90m━━━━━━━━━━━━━━━━━━━━━━━━━━━━━━━━━━━━━━━━\u001b[0m \u001b[32m4.6/4.6 MB\u001b[0m \u001b[31m65.9 MB/s\u001b[0m eta \u001b[36m0:00:00\u001b[0m:00:01\u001b[0m\n\u001b[?25hDownloading importlib_resources-6.4.0-py3-none-any.whl (38 kB)\nDownloading kiwisolver-1.4.5-cp39-cp39-manylinux_2_12_x86_64.manylinux2010_x86_64.whl (1.6 MB)\n\u001b[2K   \u001b[90m━━━━━━━━━━━━━━━━━━━━━━━━━━━━━━━━━━━━━━━━\u001b[0m \u001b[32m1.6/1.6 MB\u001b[0m \u001b[31m49.9 MB/s\u001b[0m eta \u001b[36m0:00:00\u001b[0m\n\u001b[?25hDownloading pyparsing-3.1.2-py3-none-any.whl (103 kB)\n\u001b[2K   \u001b[90m━━━━━━━━━━━━━━━━━━━━━━━━━━━━━━━━━━━━━━━━\u001b[0m \u001b[32m103.2/103.2 kB\u001b[0m \u001b[31m4.9 MB/s\u001b[0m eta \u001b[36m0:00:00\u001b[0m\n\u001b[?25hInstalling collected packages: pyparsing, kiwisolver, importlib-resources, fonttools, cycler, contourpy, matplotlib\nSuccessfully installed contourpy-1.2.1 cycler-0.12.1 fonttools-4.53.1 importlib-resources-6.4.0 kiwisolver-1.4.5 matplotlib-3.9.1.post1 pyparsing-3.1.2\nNote: you may need to restart the kernel to use updated packages.\n"
        }
      ],
      "execution_count": 27,
      "metadata": {
        "jupyter": {
          "source_hidden": false,
          "outputs_hidden": false
        },
        "nteract": {
          "transient": {
            "deleting": false
          }
        }
      }
    },
    {
      "cell_type": "code",
      "source": [
        "import numpy as np\n",
        "import sklearn"
      ],
      "outputs": [],
      "execution_count": 16,
      "metadata": {
        "gather": {
          "logged": 1723224081861
        }
      }
    },
    {
      "cell_type": "code",
      "source": [
        "print(np.unique(y, return_counts=True))"
      ],
      "outputs": [
        {
          "output_type": "stream",
          "name": "stdout",
          "text": "(array([0, 1]), array([3344, 1656]))\n"
        }
      ],
      "execution_count": 8,
      "metadata": {
        "gather": {
          "logged": 1723223937593
        }
      }
    },
    {
      "cell_type": "code",
      "source": [
        "from sklearn.model_selection import train_test_split"
      ],
      "outputs": [],
      "execution_count": 17,
      "metadata": {
        "gather": {
          "logged": 1723224085573
        }
      }
    },
    {
      "cell_type": "code",
      "source": [
        "X_train, X_test, y_train, y_test = train_test_split(X, y, test_size=0.30, random_state=0)"
      ],
      "outputs": [],
      "execution_count": 18,
      "metadata": {
        "gather": {
          "logged": 1723224088704
        }
      }
    },
    {
      "cell_type": "markdown",
      "source": [
        "## Train model"
      ],
      "metadata": {}
    },
    {
      "cell_type": "code",
      "source": [
        "from sklearn.linear_model import LogisticRegression"
      ],
      "outputs": [],
      "execution_count": 19,
      "metadata": {
        "gather": {
          "logged": 1723224093853
        }
      }
    },
    {
      "cell_type": "code",
      "source": [
        "model = LogisticRegression(C=1/0.1, solver=\"liblinear\").fit(X_train, y_train)"
      ],
      "outputs": [],
      "execution_count": 20,
      "metadata": {
        "gather": {
          "logged": 1723224096651
        }
      }
    },
    {
      "cell_type": "markdown",
      "source": [
        "## Evaluate model"
      ],
      "metadata": {}
    },
    {
      "cell_type": "code",
      "source": [
        "import numpy as np"
      ],
      "outputs": [],
      "execution_count": 61,
      "metadata": {}
    },
    {
      "cell_type": "code",
      "source": [
        "y_hat = model.predict(X_test)\n",
        "acc = np.average(y_hat == y_test)"
      ],
      "outputs": [],
      "execution_count": 21,
      "metadata": {
        "gather": {
          "logged": 1723224100452
        }
      }
    },
    {
      "cell_type": "code",
      "source": [
        "acc"
      ],
      "outputs": [
        {
          "output_type": "execute_result",
          "execution_count": 22,
          "data": {
            "text/plain": "0.7906666666666666"
          },
          "metadata": {}
        }
      ],
      "execution_count": 22,
      "metadata": {
        "gather": {
          "logged": 1723224102942
        }
      }
    },
    {
      "cell_type": "code",
      "source": [
        "from sklearn.metrics import roc_auc_score"
      ],
      "outputs": [],
      "execution_count": 23,
      "metadata": {
        "gather": {
          "logged": 1723224107312
        }
      }
    },
    {
      "cell_type": "code",
      "source": [
        "y_scores = model.predict_proba(X_test)\n",
        "auc = roc_auc_score(y_test,y_scores[:,1])"
      ],
      "outputs": [],
      "execution_count": 24,
      "metadata": {
        "gather": {
          "logged": 1723224111003
        }
      }
    },
    {
      "cell_type": "code",
      "source": [
        "auc"
      ],
      "outputs": [
        {
          "output_type": "execute_result",
          "execution_count": 25,
          "data": {
            "text/plain": "0.8535910518053376"
          },
          "metadata": {}
        }
      ],
      "execution_count": 25,
      "metadata": {
        "gather": {
          "logged": 1723224112685
        }
      }
    },
    {
      "cell_type": "code",
      "source": [
        "from sklearn.metrics import roc_curve\n",
        "import matplotlib.pyplot as plt"
      ],
      "outputs": [],
      "execution_count": 28,
      "metadata": {
        "gather": {
          "logged": 1723224148467
        }
      }
    },
    {
      "cell_type": "code",
      "source": [
        "# plot ROC curve\n",
        "fpr, tpr, thresholds = roc_curve(y_test, y_scores[:,1])\n",
        "fig = plt.figure(figsize=(6, 4))\n",
        "# Plot the diagonal 50% line\n",
        "plt.plot([0, 1], [0, 1], 'k--')\n",
        "# Plot the FPR and TPR achieved by our model\n",
        "plt.plot(fpr, tpr)\n",
        "plt.xlabel('False Positive Rate')\n",
        "plt.ylabel('True Positive Rate')\n",
        "plt.title('ROC Curve')"
      ],
      "outputs": [
        {
          "output_type": "execute_result",
          "execution_count": 29,
          "data": {
            "text/plain": "Text(0.5, 1.0, 'ROC Curve')"
          },
          "metadata": {}
        },
        {
          "output_type": "display_data",
          "data": {
            "text/plain": "<Figure size 600x400 with 1 Axes>",
            "image/png": "[encoded data removed]"
          },
          "metadata": {}
        }
      ],
      "execution_count": 29,
      "metadata": {
        "gather": {
          "logged": 1723224151493
        }
      }
    }
  ],
  "metadata": {
    "interpreter": {
      "hash": "f2b2cd046deda8eabef1e765a11d0ec9aa9bd1d31d56ce79c815a38c323e14ec"
    },
    "kernel_info": {
      "name": "python3"
    },
    "kernelspec": {
      "name": "python3",
      "language": "python",
      "display_name": "Python 3 (ipykernel)"
    },
    "language_info": {
      "name": "python",
      "version": "3.9.18",
      "mimetype": "text/x-python",
      "codemirror_mode": {
        "name": "ipython",
        "version": 3
      },
      "pygments_lexer": "ipython3",
      "nbconvert_exporter": "python",
      "file_extension": ".py"
    },
    "nteract": {
      "version": "nteract-front-end@1.0.0"
    },
    "microsoft": {
      "ms_spell_check": {
        "ms_spell_check_language": "en"
      },
      "host": {
        "AzureML": {
          "notebookHasBeenCompleted": true
        }
      }
    }
  },
  "nbformat": 4,
  "nbformat_minor": 0
}